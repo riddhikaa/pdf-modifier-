{
  "nbformat": 4,
  "nbformat_minor": 0,
  "metadata": {
    "colab": {
      "provenance": [],
      "authorship_tag": "ABX9TyM2jrxol3DPTkLXu2FBj/d4",
      "include_colab_link": true
    },
    "kernelspec": {
      "name": "python3",
      "display_name": "Python 3"
    },
    "language_info": {
      "name": "python"
    }
  },
  "cells": [
    {
      "cell_type": "markdown",
      "metadata": {
        "id": "view-in-github",
        "colab_type": "text"
      },
      "source": [
        "<a href=\"https://colab.research.google.com/github/riddhikaa/pdf-modifier-/blob/main/modifyingPDFwithPython.ipynb\" target=\"_parent\"><img src=\"https://colab.research.google.com/assets/colab-badge.svg\" alt=\"Open In Colab\"/></a>"
      ]
    },
    {
      "cell_type": "code",
      "source": [
        "!pip install PyPDF2"
      ],
      "metadata": {
        "colab": {
          "base_uri": "https://localhost:8080/"
        },
        "id": "CMhh3Sr_QpGr",
        "outputId": "1f555da4-2144-414f-e12b-0709065637df"
      },
      "execution_count": 1,
      "outputs": [
        {
          "output_type": "stream",
          "name": "stdout",
          "text": [
            "Collecting PyPDF2\n",
            "  Downloading pypdf2-3.0.1-py3-none-any.whl.metadata (6.8 kB)\n",
            "Downloading pypdf2-3.0.1-py3-none-any.whl (232 kB)\n",
            "\u001b[?25l   \u001b[90m━━━━━━━━━━━━━━━━━━━━━━━━━━━━━━━━━━━━━━━━\u001b[0m \u001b[32m0.0/232.6 kB\u001b[0m \u001b[31m?\u001b[0m eta \u001b[36m-:--:--\u001b[0m\r\u001b[2K   \u001b[91m━━━━━━━━━━━━━━━━━━━━━━━━━━\u001b[0m\u001b[90m╺\u001b[0m\u001b[90m━━━━━━━━━━━━━\u001b[0m \u001b[32m153.6/232.6 kB\u001b[0m \u001b[31m4.8 MB/s\u001b[0m eta \u001b[36m0:00:01\u001b[0m\r\u001b[2K   \u001b[90m━━━━━━━━━━━━━━━━━━━━━━━━━━━━━━━━━━━━━━━━\u001b[0m \u001b[32m232.6/232.6 kB\u001b[0m \u001b[31m4.5 MB/s\u001b[0m eta \u001b[36m0:00:00\u001b[0m\n",
            "\u001b[?25hInstalling collected packages: PyPDF2\n",
            "Successfully installed PyPDF2-3.0.1\n"
          ]
        }
      ]
    },
    {
      "cell_type": "markdown",
      "source": [
        "SO I NEEDED TO REMOVE FEW EXPERIMENTS FROM THE FILE ,,\n",
        "INITIALLY MY FILE HAD 11 EXPERIMENTS, BUT WE WERE TOLD TO\n",
        "ONLY SUBMIT 7 EXPERIMENTS ,\n",
        "SO WITH THE HELP OF PyPDF2 LIBRARY , I MANIPULATED MY FILE ,\n",
        "BECAUSE I WAS TOO LAZY TO DO IT MANUALLY LOL"
      ],
      "metadata": {
        "id": "VBAxKCF0R2Bn"
      }
    },
    {
      "cell_type": "markdown",
      "source": [
        "# ABOUT PyPDF2 🇰\n",
        "\n",
        "https://www.geeksforgeeks.org/introduction-to-python-pypdf2-library/"
      ],
      "metadata": {
        "id": "Z0F9kcfqSfh_"
      }
    },
    {
      "cell_type": "code",
      "execution_count": 2,
      "metadata": {
        "colab": {
          "base_uri": "https://localhost:8080/",
          "height": 35
        },
        "id": "r8eLb46ZQVUI",
        "outputId": "f4a4e6a5-d5bb-4253-819a-3310f57e28f3"
      },
      "outputs": [
        {
          "output_type": "execute_result",
          "data": {
            "text/plain": [
              "'/content/MPMC_LAB_FILE_upto_page9.pdf'"
            ],
            "application/vnd.google.colaboratory.intrinsic+json": {
              "type": "string"
            }
          },
          "metadata": {},
          "execution_count": 2
        }
      ],
      "source": [
        "from PyPDF2 import PdfReader, PdfWriter\n",
        "\n",
        "# Load the uploaded PDF\n",
        "input_pdf_path = '/content/MPMC LAB FILE 2.pdf.pdf'\n",
        "output_pdf_path = '/content/MPMC_LAB_FILE_upto_page9.pdf'\n",
        "\n",
        "reader = PdfReader(input_pdf_path)\n",
        "writer = PdfWriter()\n",
        "\n",
        "\n",
        "for i in range(min(9, len(reader.pages))): # Keep only the first 9 pages\n",
        "    writer.add_page(reader.pages[i])\n",
        "\n",
        "# Saving the trimmed PDF\n",
        "with open(output_pdf_path, \"wb\") as f_out:\n",
        "    writer.write(f_out)\n",
        "\n",
        "output_pdf_path\n"
      ]
    }
  ]
}